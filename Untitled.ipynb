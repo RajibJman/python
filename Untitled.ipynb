{
 "cells": [
  {
   "cell_type": "code",
   "execution_count": 1,
   "id": "e45a31ea-69d3-4d09-a3bb-955a57944bb6",
   "metadata": {},
   "outputs": [],
   "source": [
    "lst=list()"
   ]
  },
  {
   "cell_type": "code",
   "execution_count": 2,
   "id": "846f313c-8cb0-46da-81d4-c009b2a37384",
   "metadata": {},
   "outputs": [
    {
     "data": {
      "text/plain": [
       "[1, 2, 3]"
      ]
     },
     "execution_count": 2,
     "metadata": {},
     "output_type": "execute_result"
    }
   ],
   "source": [
    "lst=[1,2,3]\n",
    "\n",
    "lst"
   ]
  },
  {
   "cell_type": "code",
   "execution_count": 3,
   "id": "04607892-9a15-407d-bbf2-93d376a73e83",
   "metadata": {},
   "outputs": [],
   "source": [
    "lst.append(4)"
   ]
  },
  {
   "cell_type": "code",
   "execution_count": 4,
   "id": "5593fe29-c588-4d8b-9e7d-e38a4d78c1fa",
   "metadata": {},
   "outputs": [
    {
     "data": {
      "text/plain": [
       "[1, 2, 3, 4]"
      ]
     },
     "execution_count": 4,
     "metadata": {},
     "output_type": "execute_result"
    }
   ],
   "source": [
    "lst\n"
   ]
  },
  {
   "cell_type": "code",
   "execution_count": 5,
   "id": "547e5c03-fddc-400f-8ad7-ee50cba10235",
   "metadata": {},
   "outputs": [
    {
     "data": {
      "text/plain": [
       "4"
      ]
     },
     "execution_count": 5,
     "metadata": {},
     "output_type": "execute_result"
    }
   ],
   "source": [
    "lst.pop()"
   ]
  },
  {
   "cell_type": "code",
   "execution_count": 7,
   "id": "c95843e4-9ca7-4ce6-a3bf-99ef9b476b3a",
   "metadata": {},
   "outputs": [
    {
     "data": {
      "text/plain": [
       "1"
      ]
     },
     "execution_count": 7,
     "metadata": {},
     "output_type": "execute_result"
    }
   ],
   "source": [
    "lst.count(1)"
   ]
  },
  {
   "cell_type": "code",
   "execution_count": 9,
   "id": "2e2606b2-9f5f-4a7e-8430-6c656ee9af11",
   "metadata": {},
   "outputs": [
    {
     "data": {
      "text/plain": [
       "[2, 3]"
      ]
     },
     "execution_count": 9,
     "metadata": {},
     "output_type": "execute_result"
    }
   ],
   "source": [
    "lst[1:3]"
   ]
  },
  {
   "cell_type": "code",
   "execution_count": 10,
   "id": "085fd216-722d-41a5-8bfb-48a0b7ca9372",
   "metadata": {},
   "outputs": [
    {
     "data": {
      "text/plain": [
       "[1, 2, 3, 1, 2, 3]"
      ]
     },
     "execution_count": 10,
     "metadata": {},
     "output_type": "execute_result"
    }
   ],
   "source": [
    "lst*2\n"
   ]
  },
  {
   "cell_type": "code",
   "execution_count": 11,
   "id": "3a741162-dff2-475c-ad04-65d0624a096d",
   "metadata": {},
   "outputs": [],
   "source": [
    "st=set()"
   ]
  },
  {
   "cell_type": "code",
   "execution_count": 12,
   "id": "691addd7-d629-47c8-9a5d-3f144c786319",
   "metadata": {},
   "outputs": [
    {
     "data": {
      "text/plain": [
       "{1, 2, 3, 5, 6, 7}"
      ]
     },
     "execution_count": 12,
     "metadata": {},
     "output_type": "execute_result"
    }
   ],
   "source": [
    "st={1,2,3,2,5,6,7}\n",
    "st"
   ]
  },
  {
   "cell_type": "markdown",
   "id": "5029a4c3-e2cc-4562-918a-1710b416d5bb",
   "metadata": {},
   "source": [
    "dictionary"
   ]
  },
  {
   "cell_type": "code",
   "execution_count": 14,
   "id": "f8c4a6d9-5705-4a46-bb54-d5be08554fe1",
   "metadata": {},
   "outputs": [],
   "source": [
    "mdict={\"name\" : \"rajib\" , \"sername\" : \"parbat\" }"
   ]
  },
  {
   "cell_type": "code",
   "execution_count": 15,
   "id": "471c13b4-a4c6-492a-a872-df3b09a2a5f5",
   "metadata": {},
   "outputs": [
    {
     "data": {
      "text/plain": [
       "dict"
      ]
     },
     "execution_count": 15,
     "metadata": {},
     "output_type": "execute_result"
    }
   ],
   "source": [
    "type(mdict)"
   ]
  },
  {
   "cell_type": "code",
   "execution_count": 16,
   "id": "e5f68d47-60d2-458b-8fa7-233692a28328",
   "metadata": {},
   "outputs": [
    {
     "data": {
      "text/plain": [
       "'rajib'"
      ]
     },
     "execution_count": 16,
     "metadata": {},
     "output_type": "execute_result"
    }
   ],
   "source": [
    "mdict['name']"
   ]
  },
  {
   "cell_type": "code",
   "execution_count": 17,
   "id": "646fbb4b-2053-4459-958b-093ab604444c",
   "metadata": {},
   "outputs": [
    {
     "name": "stdout",
     "output_type": "stream",
     "text": [
      "name\n",
      "sername\n"
     ]
    }
   ],
   "source": [
    "for x in mdict:\n",
    "    print(x)"
   ]
  },
  {
   "cell_type": "code",
   "execution_count": 18,
   "id": "d233b7e2-986b-4f27-85e4-0ca87e6668c2",
   "metadata": {},
   "outputs": [
    {
     "name": "stdout",
     "output_type": "stream",
     "text": [
      "rajib\n",
      "parbat\n"
     ]
    }
   ],
   "source": [
    "for x in mdict.values():\n",
    "    print(x)"
   ]
  },
  {
   "cell_type": "code",
   "execution_count": 19,
   "id": "af01f304-9dc7-4e34-a000-cd753fdf2c7d",
   "metadata": {},
   "outputs": [
    {
     "name": "stdout",
     "output_type": "stream",
     "text": [
      "('name', 'rajib')\n",
      "('sername', 'parbat')\n"
     ]
    }
   ],
   "source": [
    "for x in mdict.items():\n",
    "    print(x)"
   ]
  },
  {
   "cell_type": "code",
   "execution_count": 20,
   "id": "5eb484c2-e298-422c-8822-12d4922c3670",
   "metadata": {},
   "outputs": [],
   "source": [
    "mdict[\"place\"]=\"kolkata\";"
   ]
  },
  {
   "cell_type": "code",
   "execution_count": 21,
   "id": "8b1991e1-3a59-4867-b0f9-9e8f398d2f81",
   "metadata": {},
   "outputs": [
    {
     "data": {
      "text/plain": [
       "{'name': 'rajib', 'sername': 'parbat', 'place': 'kolkata'}"
      ]
     },
     "execution_count": 21,
     "metadata": {},
     "output_type": "execute_result"
    }
   ],
   "source": [
    "mdict"
   ]
  },
  {
   "cell_type": "code",
   "execution_count": 22,
   "id": "d2a41632-da58-4b3a-806e-75bec29fbde4",
   "metadata": {},
   "outputs": [],
   "source": [
    "mdict={\"name\" : {\"rajib\" : \"tera naam\"} , \"sername\" : {\"parbat\" : \"tera sername\"} }"
   ]
  },
  {
   "cell_type": "code",
   "execution_count": 26,
   "id": "a7796275-200e-4e88-9468-8dd9ebbdcda7",
   "metadata": {},
   "outputs": [
    {
     "data": {
      "text/plain": [
       "'tera naam'"
      ]
     },
     "execution_count": 26,
     "metadata": {},
     "output_type": "execute_result"
    }
   ],
   "source": [
    "mdict['name']['rajib']"
   ]
  },
  {
   "cell_type": "markdown",
   "id": "4049427a-34e0-4997-aacd-e6d83fa52d01",
   "metadata": {},
   "source": [
    "tuple"
   ]
  },
  {
   "cell_type": "code",
   "execution_count": 27,
   "id": "3d67ee12-73f7-4f55-aa1e-ea60456ae630",
   "metadata": {},
   "outputs": [],
   "source": [
    "mtuple=tuple()"
   ]
  },
  {
   "cell_type": "code",
   "execution_count": 29,
   "id": "0684508a-8f52-4a1f-a517-b6703d7e9223",
   "metadata": {},
   "outputs": [
    {
     "data": {
      "text/plain": [
       "tuple"
      ]
     },
     "execution_count": 29,
     "metadata": {},
     "output_type": "execute_result"
    }
   ],
   "source": [
    "type(mtuple)"
   ]
  },
  {
   "cell_type": "code",
   "execution_count": 30,
   "id": "6cd99f82-3aa3-4ab5-9d14-a7c6acd5be89",
   "metadata": {},
   "outputs": [],
   "source": [
    "mtuple=(\"rajib\",\"rahul\")"
   ]
  },
  {
   "cell_type": "code",
   "execution_count": 31,
   "id": "9ff028d4-2506-4ffc-a1ec-2c1bbf6ceaa6",
   "metadata": {},
   "outputs": [
    {
     "data": {
      "text/plain": [
       "'rajib'"
      ]
     },
     "execution_count": 31,
     "metadata": {},
     "output_type": "execute_result"
    }
   ],
   "source": [
    "mtuple[0]"
   ]
  },
  {
   "cell_type": "markdown",
   "id": "19ae7d1d-6111-493b-807a-eaf63337d170",
   "metadata": {},
   "source": [
    "\n",
    "##numpy\n"
   ]
  },
  {
   "cell_type": "code",
   "execution_count": 33,
   "id": "6e692946-6a6b-4092-805c-93bbda991b0b",
   "metadata": {},
   "outputs": [
    {
     "name": "stdout",
     "output_type": "stream",
     "text": [
      "Collecting numpy\n",
      "  Downloading numpy-2.0.0-cp312-cp312-win_amd64.whl.metadata (60 kB)\n",
      "     ---------------------------------------- 0.0/60.9 kB ? eta -:--:--\n",
      "     ---------------------------------------- 0.0/60.9 kB ? eta -:--:--\n",
      "     ------ --------------------------------- 10.2/60.9 kB ? eta -:--:--\n",
      "     ------------ ------------------------- 20.5/60.9 kB 131.3 kB/s eta 0:00:01\n",
      "     ------------------- ------------------ 30.7/60.9 kB 163.8 kB/s eta 0:00:01\n",
      "     ------------------------- ------------ 41.0/60.9 kB 178.6 kB/s eta 0:00:01\n",
      "     ------------------------------- ------ 51.2/60.9 kB 219.0 kB/s eta 0:00:01\n",
      "     -------------------------------------- 60.9/60.9 kB 216.5 kB/s eta 0:00:00\n",
      "Downloading numpy-2.0.0-cp312-cp312-win_amd64.whl (16.2 MB)\n",
      "   ---------------------------------------- 0.0/16.2 MB ? eta -:--:--\n",
      "   ---------------------------------------- 0.0/16.2 MB 1.3 MB/s eta 0:00:13\n",
      "   ---------------------------------------- 0.1/16.2 MB 1.0 MB/s eta 0:00:16\n",
      "   ---------------------------------------- 0.2/16.2 MB 1.4 MB/s eta 0:00:12\n",
      "    --------------------------------------- 0.2/16.2 MB 1.5 MB/s eta 0:00:11\n",
      "    --------------------------------------- 0.3/16.2 MB 1.6 MB/s eta 0:00:11\n",
      "   - -------------------------------------- 0.4/16.2 MB 1.6 MB/s eta 0:00:10\n",
      "   - -------------------------------------- 0.5/16.2 MB 1.6 MB/s eta 0:00:10\n",
      "   - -------------------------------------- 0.6/16.2 MB 1.7 MB/s eta 0:00:10\n",
      "   - -------------------------------------- 0.7/16.2 MB 1.8 MB/s eta 0:00:09\n",
      "   - -------------------------------------- 0.8/16.2 MB 1.8 MB/s eta 0:00:09\n",
      "   -- ------------------------------------- 0.9/16.2 MB 1.9 MB/s eta 0:00:09\n",
      "   -- ------------------------------------- 1.0/16.2 MB 1.8 MB/s eta 0:00:09\n",
      "   -- ------------------------------------- 1.0/16.2 MB 1.7 MB/s eta 0:00:09\n",
      "   -- ------------------------------------- 1.1/16.2 MB 1.7 MB/s eta 0:00:09\n",
      "   -- ------------------------------------- 1.2/16.2 MB 1.7 MB/s eta 0:00:09\n",
      "   --- ------------------------------------ 1.3/16.2 MB 1.7 MB/s eta 0:00:09\n",
      "   --- ------------------------------------ 1.3/16.2 MB 1.8 MB/s eta 0:00:09\n",
      "   --- ------------------------------------ 1.4/16.2 MB 1.7 MB/s eta 0:00:09\n",
      "   --- ------------------------------------ 1.5/16.2 MB 1.8 MB/s eta 0:00:09\n",
      "   ---- ----------------------------------- 1.6/16.2 MB 1.8 MB/s eta 0:00:09\n",
      "   ---- ----------------------------------- 1.8/16.2 MB 1.8 MB/s eta 0:00:08\n",
      "   ---- ----------------------------------- 1.9/16.2 MB 1.9 MB/s eta 0:00:08\n",
      "   ---- ----------------------------------- 2.0/16.2 MB 1.9 MB/s eta 0:00:08\n",
      "   ----- ---------------------------------- 2.1/16.2 MB 1.9 MB/s eta 0:00:08\n",
      "   ----- ---------------------------------- 2.2/16.2 MB 2.0 MB/s eta 0:00:08\n",
      "   ----- ---------------------------------- 2.3/16.2 MB 1.9 MB/s eta 0:00:08\n",
      "   ----- ---------------------------------- 2.3/16.2 MB 1.9 MB/s eta 0:00:08\n",
      "   ----- ---------------------------------- 2.4/16.2 MB 1.9 MB/s eta 0:00:08\n",
      "   ------ --------------------------------- 2.5/16.2 MB 1.9 MB/s eta 0:00:08\n",
      "   ------ --------------------------------- 2.6/16.2 MB 1.9 MB/s eta 0:00:08\n",
      "   ------ --------------------------------- 2.7/16.2 MB 1.9 MB/s eta 0:00:08\n",
      "   ------ --------------------------------- 2.8/16.2 MB 1.9 MB/s eta 0:00:08\n",
      "   ------- -------------------------------- 2.9/16.2 MB 1.9 MB/s eta 0:00:08\n",
      "   ------- -------------------------------- 3.0/16.2 MB 1.9 MB/s eta 0:00:07\n",
      "   ------- -------------------------------- 3.1/16.2 MB 1.9 MB/s eta 0:00:07\n",
      "   ------- -------------------------------- 3.2/16.2 MB 1.9 MB/s eta 0:00:07\n",
      "   -------- ------------------------------- 3.4/16.2 MB 2.0 MB/s eta 0:00:07\n",
      "   -------- ------------------------------- 3.4/16.2 MB 2.0 MB/s eta 0:00:07\n",
      "   -------- ------------------------------- 3.5/16.2 MB 2.0 MB/s eta 0:00:07\n",
      "   -------- ------------------------------- 3.6/16.2 MB 2.0 MB/s eta 0:00:07\n",
      "   --------- ------------------------------ 3.8/16.2 MB 2.0 MB/s eta 0:00:07\n",
      "   --------- ------------------------------ 3.9/16.2 MB 2.0 MB/s eta 0:00:07\n",
      "   --------- ------------------------------ 4.0/16.2 MB 2.0 MB/s eta 0:00:07\n",
      "   ---------- ----------------------------- 4.1/16.2 MB 2.0 MB/s eta 0:00:06\n",
      "   ---------- ----------------------------- 4.2/16.2 MB 2.0 MB/s eta 0:00:06\n",
      "   ---------- ----------------------------- 4.3/16.2 MB 2.1 MB/s eta 0:00:06\n",
      "   ---------- ----------------------------- 4.4/16.2 MB 2.0 MB/s eta 0:00:06\n",
      "   ----------- ---------------------------- 4.5/16.2 MB 2.0 MB/s eta 0:00:06\n",
      "   ----------- ---------------------------- 4.6/16.2 MB 2.1 MB/s eta 0:00:06\n",
      "   ----------- ---------------------------- 4.7/16.2 MB 2.0 MB/s eta 0:00:06\n",
      "   ----------- ---------------------------- 4.8/16.2 MB 2.0 MB/s eta 0:00:06\n",
      "   ------------ --------------------------- 4.9/16.2 MB 2.1 MB/s eta 0:00:06\n",
      "   ------------ --------------------------- 5.0/16.2 MB 2.0 MB/s eta 0:00:06\n",
      "   ------------ --------------------------- 5.1/16.2 MB 2.0 MB/s eta 0:00:06\n",
      "   ------------ --------------------------- 5.2/16.2 MB 2.1 MB/s eta 0:00:06\n",
      "   ------------- -------------------------- 5.3/16.2 MB 2.1 MB/s eta 0:00:06\n",
      "   ------------- -------------------------- 5.4/16.2 MB 2.0 MB/s eta 0:00:06\n",
      "   ------------- -------------------------- 5.4/16.2 MB 2.0 MB/s eta 0:00:06\n",
      "   ------------- -------------------------- 5.6/16.2 MB 2.1 MB/s eta 0:00:06\n",
      "   -------------- ------------------------- 5.7/16.2 MB 2.1 MB/s eta 0:00:06\n",
      "   -------------- ------------------------- 5.8/16.2 MB 2.1 MB/s eta 0:00:05\n",
      "   -------------- ------------------------- 6.0/16.2 MB 2.1 MB/s eta 0:00:05\n",
      "   -------------- ------------------------- 6.1/16.2 MB 2.1 MB/s eta 0:00:05\n",
      "   --------------- ------------------------ 6.2/16.2 MB 2.1 MB/s eta 0:00:05\n",
      "   --------------- ------------------------ 6.3/16.2 MB 2.1 MB/s eta 0:00:05\n",
      "   --------------- ------------------------ 6.4/16.2 MB 2.1 MB/s eta 0:00:05\n",
      "   --------------- ------------------------ 6.4/16.2 MB 2.1 MB/s eta 0:00:05\n",
      "   ---------------- ----------------------- 6.6/16.2 MB 2.1 MB/s eta 0:00:05\n",
      "   ---------------- ----------------------- 6.7/16.2 MB 2.1 MB/s eta 0:00:05\n",
      "   ---------------- ----------------------- 6.7/16.2 MB 2.1 MB/s eta 0:00:05\n",
      "   ---------------- ----------------------- 6.8/16.2 MB 2.1 MB/s eta 0:00:05\n",
      "   ---------------- ----------------------- 6.8/16.2 MB 2.1 MB/s eta 0:00:05\n",
      "   ----------------- ---------------------- 7.0/16.2 MB 2.1 MB/s eta 0:00:05\n",
      "   ----------------- ---------------------- 7.0/16.2 MB 2.1 MB/s eta 0:00:05\n",
      "   ----------------- ---------------------- 7.0/16.2 MB 2.1 MB/s eta 0:00:05\n",
      "   ----------------- ---------------------- 7.1/16.2 MB 2.0 MB/s eta 0:00:05\n",
      "   ----------------- ---------------------- 7.1/16.2 MB 2.0 MB/s eta 0:00:05\n",
      "   ----------------- ---------------------- 7.2/16.2 MB 2.0 MB/s eta 0:00:05\n",
      "   ----------------- ---------------------- 7.2/16.2 MB 2.0 MB/s eta 0:00:05\n",
      "   ----------------- ---------------------- 7.2/16.2 MB 1.9 MB/s eta 0:00:05\n",
      "   ----------------- ---------------------- 7.2/16.2 MB 1.9 MB/s eta 0:00:05\n",
      "   ----------------- ---------------------- 7.3/16.2 MB 1.9 MB/s eta 0:00:05\n",
      "   ------------------ --------------------- 7.4/16.2 MB 1.9 MB/s eta 0:00:05\n",
      "   ------------------ --------------------- 7.4/16.2 MB 1.9 MB/s eta 0:00:05\n",
      "   ------------------ --------------------- 7.5/16.2 MB 1.9 MB/s eta 0:00:05\n",
      "   ------------------ --------------------- 7.6/16.2 MB 1.9 MB/s eta 0:00:05\n",
      "   ------------------- -------------------- 7.7/16.2 MB 1.9 MB/s eta 0:00:05\n",
      "   ------------------- -------------------- 7.8/16.2 MB 1.9 MB/s eta 0:00:05\n",
      "   ------------------- -------------------- 7.9/16.2 MB 1.9 MB/s eta 0:00:05\n",
      "   ------------------- -------------------- 8.0/16.2 MB 1.9 MB/s eta 0:00:05\n",
      "   -------------------- ------------------- 8.1/16.2 MB 1.9 MB/s eta 0:00:05\n",
      "   -------------------- ------------------- 8.2/16.2 MB 1.9 MB/s eta 0:00:05\n",
      "   -------------------- ------------------- 8.2/16.2 MB 1.9 MB/s eta 0:00:05\n",
      "   -------------------- ------------------- 8.3/16.2 MB 1.9 MB/s eta 0:00:05\n",
      "   -------------------- ------------------- 8.4/16.2 MB 1.9 MB/s eta 0:00:05\n",
      "   --------------------- ------------------ 8.5/16.2 MB 1.9 MB/s eta 0:00:04\n",
      "   --------------------- ------------------ 8.6/16.2 MB 1.9 MB/s eta 0:00:04\n",
      "   --------------------- ------------------ 8.8/16.2 MB 1.9 MB/s eta 0:00:04\n",
      "   --------------------- ------------------ 8.9/16.2 MB 1.9 MB/s eta 0:00:04\n",
      "   ---------------------- ----------------- 9.0/16.2 MB 1.9 MB/s eta 0:00:04\n",
      "   ---------------------- ----------------- 9.1/16.2 MB 1.9 MB/s eta 0:00:04\n",
      "   ---------------------- ----------------- 9.2/16.2 MB 2.0 MB/s eta 0:00:04\n",
      "   ----------------------- ---------------- 9.4/16.2 MB 2.0 MB/s eta 0:00:04\n",
      "   ----------------------- ---------------- 9.5/16.2 MB 2.0 MB/s eta 0:00:04\n",
      "   ----------------------- ---------------- 9.7/16.2 MB 2.0 MB/s eta 0:00:04\n",
      "   ------------------------ --------------- 9.8/16.2 MB 2.0 MB/s eta 0:00:04\n",
      "   ------------------------ --------------- 10.0/16.2 MB 2.0 MB/s eta 0:00:04\n",
      "   ------------------------ --------------- 10.1/16.2 MB 2.0 MB/s eta 0:00:04\n",
      "   ------------------------- -------------- 10.2/16.2 MB 2.0 MB/s eta 0:00:03\n",
      "   ------------------------- -------------- 10.3/16.2 MB 2.0 MB/s eta 0:00:03\n",
      "   ------------------------- -------------- 10.4/16.2 MB 2.1 MB/s eta 0:00:03\n",
      "   -------------------------- ------------- 10.6/16.2 MB 2.1 MB/s eta 0:00:03\n",
      "   -------------------------- ------------- 10.7/16.2 MB 2.1 MB/s eta 0:00:03\n",
      "   -------------------------- ------------- 10.9/16.2 MB 2.1 MB/s eta 0:00:03\n",
      "   --------------------------- ------------ 11.0/16.2 MB 2.1 MB/s eta 0:00:03\n",
      "   --------------------------- ------------ 11.2/16.2 MB 2.1 MB/s eta 0:00:03\n",
      "   ---------------------------- ----------- 11.4/16.2 MB 2.2 MB/s eta 0:00:03\n",
      "   ---------------------------- ----------- 11.5/16.2 MB 2.2 MB/s eta 0:00:03\n",
      "   ---------------------------- ----------- 11.6/16.2 MB 2.2 MB/s eta 0:00:03\n",
      "   ---------------------------- ----------- 11.7/16.2 MB 2.2 MB/s eta 0:00:03\n",
      "   ----------------------------- ---------- 11.9/16.2 MB 2.2 MB/s eta 0:00:02\n",
      "   ----------------------------- ---------- 11.9/16.2 MB 2.2 MB/s eta 0:00:02\n",
      "   ----------------------------- ---------- 12.1/16.2 MB 2.2 MB/s eta 0:00:02\n",
      "   ----------------------------- ---------- 12.1/16.2 MB 2.2 MB/s eta 0:00:02\n",
      "   ------------------------------ --------- 12.2/16.2 MB 2.2 MB/s eta 0:00:02\n",
      "   ------------------------------ --------- 12.3/16.2 MB 2.2 MB/s eta 0:00:02\n",
      "   ------------------------------ --------- 12.3/16.2 MB 2.1 MB/s eta 0:00:02\n",
      "   ------------------------------ --------- 12.5/16.2 MB 2.2 MB/s eta 0:00:02\n",
      "   ------------------------------- -------- 12.6/16.2 MB 2.2 MB/s eta 0:00:02\n",
      "   ------------------------------- -------- 12.7/16.2 MB 2.2 MB/s eta 0:00:02\n",
      "   ------------------------------- -------- 12.7/16.2 MB 2.2 MB/s eta 0:00:02\n",
      "   ------------------------------- -------- 12.8/16.2 MB 2.2 MB/s eta 0:00:02\n",
      "   ------------------------------- -------- 12.9/16.2 MB 2.1 MB/s eta 0:00:02\n",
      "   -------------------------------- ------- 13.0/16.2 MB 2.2 MB/s eta 0:00:02\n",
      "   -------------------------------- ------- 13.1/16.2 MB 2.2 MB/s eta 0:00:02\n",
      "   -------------------------------- ------- 13.2/16.2 MB 2.2 MB/s eta 0:00:02\n",
      "   -------------------------------- ------- 13.2/16.2 MB 2.2 MB/s eta 0:00:02\n",
      "   -------------------------------- ------- 13.3/16.2 MB 2.1 MB/s eta 0:00:02\n",
      "   -------------------------------- ------- 13.3/16.2 MB 2.1 MB/s eta 0:00:02\n",
      "   -------------------------------- ------- 13.4/16.2 MB 2.1 MB/s eta 0:00:02\n",
      "   --------------------------------- ------ 13.4/16.2 MB 2.1 MB/s eta 0:00:02\n",
      "   --------------------------------- ------ 13.5/16.2 MB 2.1 MB/s eta 0:00:02\n",
      "   --------------------------------- ------ 13.6/16.2 MB 2.1 MB/s eta 0:00:02\n",
      "   --------------------------------- ------ 13.7/16.2 MB 2.1 MB/s eta 0:00:02\n",
      "   --------------------------------- ------ 13.7/16.2 MB 2.1 MB/s eta 0:00:02\n",
      "   ---------------------------------- ----- 13.8/16.2 MB 2.1 MB/s eta 0:00:02\n",
      "   ---------------------------------- ----- 13.9/16.2 MB 2.1 MB/s eta 0:00:02\n",
      "   ---------------------------------- ----- 14.0/16.2 MB 2.1 MB/s eta 0:00:02\n",
      "   ---------------------------------- ----- 14.1/16.2 MB 2.1 MB/s eta 0:00:02\n",
      "   ----------------------------------- ---- 14.2/16.2 MB 2.1 MB/s eta 0:00:01\n",
      "   ----------------------------------- ---- 14.3/16.2 MB 2.1 MB/s eta 0:00:01\n",
      "   ----------------------------------- ---- 14.4/16.2 MB 2.0 MB/s eta 0:00:01\n",
      "   ----------------------------------- ---- 14.5/16.2 MB 2.0 MB/s eta 0:00:01\n",
      "   ------------------------------------ --- 14.7/16.2 MB 2.1 MB/s eta 0:00:01\n",
      "   ------------------------------------ --- 14.8/16.2 MB 2.1 MB/s eta 0:00:01\n",
      "   ------------------------------------ --- 14.9/16.2 MB 2.1 MB/s eta 0:00:01\n",
      "   ------------------------------------ --- 15.0/16.2 MB 2.1 MB/s eta 0:00:01\n",
      "   ------------------------------------- -- 15.1/16.2 MB 2.1 MB/s eta 0:00:01\n",
      "   ------------------------------------- -- 15.2/16.2 MB 2.1 MB/s eta 0:00:01\n",
      "   ------------------------------------- -- 15.3/16.2 MB 2.1 MB/s eta 0:00:01\n",
      "   ------------------------------------- -- 15.4/16.2 MB 2.1 MB/s eta 0:00:01\n",
      "   -------------------------------------- - 15.5/16.2 MB 2.1 MB/s eta 0:00:01\n",
      "   -------------------------------------- - 15.6/16.2 MB 2.1 MB/s eta 0:00:01\n",
      "   -------------------------------------- - 15.7/16.2 MB 2.1 MB/s eta 0:00:01\n",
      "   ---------------------------------------  15.8/16.2 MB 2.1 MB/s eta 0:00:01\n",
      "   ---------------------------------------  15.9/16.2 MB 2.1 MB/s eta 0:00:01\n",
      "   ---------------------------------------  16.0/16.2 MB 2.1 MB/s eta 0:00:01\n",
      "   ---------------------------------------  16.1/16.2 MB 2.1 MB/s eta 0:00:01\n",
      "   ---------------------------------------  16.2/16.2 MB 2.1 MB/s eta 0:00:01\n",
      "   ---------------------------------------  16.2/16.2 MB 2.1 MB/s eta 0:00:01\n",
      "   ---------------------------------------- 16.2/16.2 MB 2.0 MB/s eta 0:00:00\n",
      "Installing collected packages: numpy\n",
      "Successfully installed numpy-2.0.0\n",
      "Note: you may need to restart the kernel to use updated packages.\n"
     ]
    },
    {
     "name": "stderr",
     "output_type": "stream",
     "text": [
      "\n",
      "[notice] A new release of pip is available: 24.0 -> 24.1.2\n",
      "[notice] To update, run: python.exe -m pip install --upgrade pip\n"
     ]
    }
   ],
   "source": [
    "\n",
    "\n",
    "pip install numpy"
   ]
  },
  {
   "cell_type": "code",
   "execution_count": 35,
   "id": "9e3bef19-2ac0-41e4-b16d-14de46e6e81f",
   "metadata": {},
   "outputs": [],
   "source": [
    "import numpy as np"
   ]
  },
  {
   "cell_type": "code",
   "execution_count": 36,
   "id": "26ed7d71-68f3-4e38-b53f-b3fec57e2899",
   "metadata": {},
   "outputs": [],
   "source": [
    "mlist=[1,2,3,4,5]"
   ]
  },
  {
   "cell_type": "code",
   "execution_count": 37,
   "id": "7026a230-6d54-400c-9d30-45ef3d331dfb",
   "metadata": {},
   "outputs": [
    {
     "data": {
      "text/plain": [
       "[1, 2, 3, 4, 5]"
      ]
     },
     "execution_count": 37,
     "metadata": {},
     "output_type": "execute_result"
    }
   ],
   "source": [
    "mlist"
   ]
  },
  {
   "cell_type": "code",
   "execution_count": 38,
   "id": "2e4bb526-f587-4016-afd9-7c685970540c",
   "metadata": {},
   "outputs": [],
   "source": [
    "arr=np.array(mlist)"
   ]
  },
  {
   "cell_type": "code",
   "execution_count": 39,
   "id": "0cb1ac8c-19e0-48b2-a4ee-16e9911fb18e",
   "metadata": {},
   "outputs": [
    {
     "data": {
      "text/plain": [
       "numpy.ndarray"
      ]
     },
     "execution_count": 39,
     "metadata": {},
     "output_type": "execute_result"
    }
   ],
   "source": [
    "type(arr)"
   ]
  },
  {
   "cell_type": "code",
   "execution_count": 40,
   "id": "32c9cfcb-8929-469a-99d7-f7c6256ae6a2",
   "metadata": {},
   "outputs": [
    {
     "data": {
      "text/plain": [
       "array([1, 2, 3, 4, 5])"
      ]
     },
     "execution_count": 40,
     "metadata": {},
     "output_type": "execute_result"
    }
   ],
   "source": [
    "arr"
   ]
  },
  {
   "cell_type": "code",
   "execution_count": 41,
   "id": "6eca7e9f-02e2-45d2-88ad-a354a93325b2",
   "metadata": {},
   "outputs": [
    {
     "data": {
      "text/plain": [
       "(5,)"
      ]
     },
     "execution_count": 41,
     "metadata": {},
     "output_type": "execute_result"
    }
   ],
   "source": [
    "arr.shape"
   ]
  },
  {
   "cell_type": "code",
   "execution_count": 43,
   "id": "e24cd339-eec0-42b9-9272-61859b5738c3",
   "metadata": {},
   "outputs": [],
   "source": [
    "l1=[1,2,3,4,5]\n",
    "l2=[2,3,4,5,6]\n",
    "l3=[4,5,6,7,0]"
   ]
  },
  {
   "cell_type": "code",
   "execution_count": 44,
   "id": "dcd375d7-4627-4398-854a-2d0f8a55f4e5",
   "metadata": {},
   "outputs": [],
   "source": [
    "arr=np.array([l1,l2,l3])"
   ]
  },
  {
   "cell_type": "code",
   "execution_count": 45,
   "id": "a6636816-2b57-4d97-97e0-151e73d39c6c",
   "metadata": {},
   "outputs": [
    {
     "data": {
      "text/plain": [
       "array([[1, 2, 3, 4, 5],\n",
       "       [2, 3, 4, 5, 6],\n",
       "       [4, 5, 6, 7, 0]])"
      ]
     },
     "execution_count": 45,
     "metadata": {},
     "output_type": "execute_result"
    }
   ],
   "source": [
    "arr"
   ]
  },
  {
   "cell_type": "code",
   "execution_count": 46,
   "id": "504b2c61-ff13-466d-a600-6c319720e81a",
   "metadata": {},
   "outputs": [
    {
     "data": {
      "text/plain": [
       "(3, 5)"
      ]
     },
     "execution_count": 46,
     "metadata": {},
     "output_type": "execute_result"
    }
   ],
   "source": [
    "arr.shape"
   ]
  },
  {
   "cell_type": "code",
   "execution_count": 50,
   "id": "51c00778-1111-4b12-810d-0bdea76ad79e",
   "metadata": {},
   "outputs": [
    {
     "data": {
      "text/plain": [
       "array([[1, 2, 3],\n",
       "       [4, 5, 2],\n",
       "       [3, 4, 5],\n",
       "       [6, 4, 5],\n",
       "       [6, 7, 0]])"
      ]
     },
     "execution_count": 50,
     "metadata": {},
     "output_type": "execute_result"
    }
   ],
   "source": [
    "arr.reshape(5,3)"
   ]
  },
  {
   "cell_type": "code",
   "execution_count": 51,
   "id": "6cdb2b82-c795-4e15-a73d-6bdb54bc7d8a",
   "metadata": {},
   "outputs": [
    {
     "data": {
      "text/plain": [
       "array([[1, 2, 3, 4, 5],\n",
       "       [2, 3, 4, 5, 6],\n",
       "       [4, 5, 6, 7, 0]])"
      ]
     },
     "execution_count": 51,
     "metadata": {},
     "output_type": "execute_result"
    }
   ],
   "source": [
    " arr\n"
   ]
  },
  {
   "cell_type": "code",
   "execution_count": 49,
   "id": "9db363ac-a401-4a68-88c8-c90249a7b24c",
   "metadata": {},
   "outputs": [
    {
     "data": {
      "text/plain": [
       "array([[1, 2],\n",
       "       [2, 3]])"
      ]
     },
     "execution_count": 49,
     "metadata": {},
     "output_type": "execute_result"
    }
   ],
   "source": [
    "arr[0:2,0:2]"
   ]
  },
  {
   "cell_type": "code",
   "execution_count": 52,
   "id": "b2efdcd9-7276-448e-99b7-496fc9e2699e",
   "metadata": {},
   "outputs": [
    {
     "data": {
      "text/plain": [
       "array([[5, 6],\n",
       "       [7, 0]])"
      ]
     },
     "execution_count": 52,
     "metadata": {},
     "output_type": "execute_result"
    }
   ],
   "source": [
    "arr[1:,3:]"
   ]
  },
  {
   "cell_type": "code",
   "execution_count": 55,
   "id": "72deb523-42aa-429e-96b3-5e1e62b8725c",
   "metadata": {},
   "outputs": [
    {
     "data": {
      "text/plain": [
       "array([[3, 4],\n",
       "       [5, 6]])"
      ]
     },
     "execution_count": 55,
     "metadata": {},
     "output_type": "execute_result"
    }
   ],
   "source": [
    "arr[1:,1:3]"
   ]
  },
  {
   "cell_type": "code",
   "execution_count": 61,
   "id": "a2a458c8-a88d-450f-b01f-e8e630017ae4",
   "metadata": {},
   "outputs": [],
   "source": [
    "arr=np.arange(0,100,step=2)"
   ]
  },
  {
   "cell_type": "code",
   "execution_count": 68,
   "id": "67d8a152-92b6-4c0f-8bfc-facc97d134ad",
   "metadata": {},
   "outputs": [
    {
     "data": {
      "text/plain": [
       "array([ 0,  2,  4,  6,  8, 10, 12, 14, 16, 18, 20, 22, 24, 26, 28, 30, 32,\n",
       "       34, 36, 38, 40, 42, 44, 46, 48, 50, 52, 54, 56, 58, 60, 62, 64, 66,\n",
       "       68, 70, 72, 74, 76, 78, 80, 82, 84, 86, 88, 90, 92, 94, 96, 98])"
      ]
     },
     "execution_count": 68,
     "metadata": {},
     "output_type": "execute_result"
    }
   ],
   "source": [
    "arr"
   ]
  },
  {
   "cell_type": "code",
   "execution_count": 71,
   "id": "72de4efb-7063-4fcd-bc41-dd882c92cb48",
   "metadata": {},
   "outputs": [
    {
     "data": {
      "text/plain": [
       "array([  0,   2,   4, 500, 500, 500, 500, 500, 500, 500, 500, 500, 500,\n",
       "       500, 500, 500, 500, 500, 500, 500, 500, 500, 500, 500, 500, 500,\n",
       "       500, 500, 500, 500, 500, 500, 500, 500, 500, 500, 500, 500, 500,\n",
       "       500, 500, 500, 500, 500, 500, 500, 500, 500, 500, 500])"
      ]
     },
     "execution_count": 71,
     "metadata": {},
     "output_type": "execute_result"
    }
   ],
   "source": [
    "arr1=arr\n",
    "arr1\n",
    "arr1[3:]=500\n",
    "arr1"
   ]
  },
  {
   "cell_type": "raw",
   "id": "7bf269d4-91a5-472d-afd2-000ff8b02c39",
   "metadata": {},
   "source": [
    "arr1[3:]=500\n",
    "arr1"
   ]
  },
  {
   "cell_type": "code",
   "execution_count": 80,
   "id": "86f005c8-e71e-449f-852a-b9ce8b6d34f0",
   "metadata": {},
   "outputs": [
    {
     "data": {
      "text/plain": [
       "array([1, 3, 5, 7])"
      ]
     },
     "execution_count": 80,
     "metadata": {},
     "output_type": "execute_result"
    }
   ],
   "source": [
    "arr3=[1,3,5,7]\n",
    "arr2=np.array(arr3)\n",
    "arr2"
   ]
  },
  {
   "cell_type": "code",
   "execution_count": 81,
   "id": "dc70ba02-8234-43e8-a85f-21c53c4f8b5a",
   "metadata": {},
   "outputs": [
    {
     "data": {
      "text/plain": [
       "array([1, 3, 5, 7])"
      ]
     },
     "execution_count": 81,
     "metadata": {},
     "output_type": "execute_result"
    }
   ],
   "source": [
    "arr4=arr2;\n",
    "arr4"
   ]
  },
  {
   "cell_type": "code",
   "execution_count": 82,
   "id": "233a2afd-f3f6-4fe7-9ad8-a8cdd9252806",
   "metadata": {},
   "outputs": [],
   "source": [
    "arr4[2:]=100"
   ]
  },
  {
   "cell_type": "code",
   "execution_count": 83,
   "id": "f6c91396-4857-4e93-a185-1ef26932c23d",
   "metadata": {},
   "outputs": [
    {
     "data": {
      "text/plain": [
       "array([  1,   3, 100, 100])"
      ]
     },
     "execution_count": 83,
     "metadata": {},
     "output_type": "execute_result"
    }
   ],
   "source": [
    "arr4"
   ]
  },
  {
   "cell_type": "code",
   "execution_count": 84,
   "id": "6f009ad2-faf3-4984-a146-cec1ce975c22",
   "metadata": {},
   "outputs": [
    {
     "data": {
      "text/plain": [
       "array([  1,   3, 100, 100])"
      ]
     },
     "execution_count": 84,
     "metadata": {},
     "output_type": "execute_result"
    }
   ],
   "source": [
    "arr2"
   ]
  },
  {
   "cell_type": "code",
   "execution_count": 85,
   "id": "c41b277f-975b-4ab3-9621-c6c0f373ddfd",
   "metadata": {},
   "outputs": [],
   "source": [
    "arr4=arr2.copy();"
   ]
  },
  {
   "cell_type": "code",
   "execution_count": 87,
   "id": "6255351b-c44c-43f6-83e6-7ab769025ad0",
   "metadata": {},
   "outputs": [],
   "source": [
    "arr4[2:]=50;"
   ]
  },
  {
   "cell_type": "code",
   "execution_count": 88,
   "id": "cb2bea92-d122-4ab0-8685-dbc58057cd12",
   "metadata": {},
   "outputs": [
    {
     "data": {
      "text/plain": [
       "array([ 1,  3, 50, 50])"
      ]
     },
     "execution_count": 88,
     "metadata": {},
     "output_type": "execute_result"
    }
   ],
   "source": [
    "arr4"
   ]
  },
  {
   "cell_type": "code",
   "execution_count": 89,
   "id": "e425fbd7-8baa-4ecd-959d-1b4b4e6fa6cb",
   "metadata": {},
   "outputs": [
    {
     "data": {
      "text/plain": [
       "array([  1,   3, 100, 100])"
      ]
     },
     "execution_count": 89,
     "metadata": {},
     "output_type": "execute_result"
    }
   ],
   "source": [
    "arr2"
   ]
  },
  {
   "cell_type": "code",
   "execution_count": null,
   "id": "25ac1c50-be91-438e-8e1f-225f79d55ec9",
   "metadata": {},
   "outputs": [],
   "source": [
    "\n",
    "\n"
   ]
  },
  {
   "cell_type": "markdown",
   "id": "67928566-76b2-4239-9b1a-91e95ee75415",
   "metadata": {},
   "source": [
    "#PANDAS"
   ]
  },
  {
   "cell_type": "code",
   "execution_count": 90,
   "id": "403505f2-cbc5-46a0-8f55-d43bcb6cb861",
   "metadata": {},
   "outputs": [
    {
     "name": "stdout",
     "output_type": "stream",
     "text": [
      "Collecting pandas\n",
      "  Downloading pandas-2.2.2-cp312-cp312-win_amd64.whl.metadata (19 kB)\n",
      "Requirement already satisfied: numpy>=1.26.0 in c:\\users\\rajibparbat\\appdata\\local\\programs\\python\\python312\\lib\\site-packages (from pandas) (2.0.0)\n",
      "Requirement already satisfied: python-dateutil>=2.8.2 in c:\\users\\rajibparbat\\appdata\\local\\programs\\python\\python312\\lib\\site-packages (from pandas) (2.9.0.post0)\n",
      "Collecting pytz>=2020.1 (from pandas)\n",
      "  Downloading pytz-2024.1-py2.py3-none-any.whl.metadata (22 kB)\n",
      "Collecting tzdata>=2022.7 (from pandas)\n",
      "  Downloading tzdata-2024.1-py2.py3-none-any.whl.metadata (1.4 kB)\n",
      "Requirement already satisfied: six>=1.5 in c:\\users\\rajibparbat\\appdata\\local\\programs\\python\\python312\\lib\\site-packages (from python-dateutil>=2.8.2->pandas) (1.16.0)\n",
      "Downloading pandas-2.2.2-cp312-cp312-win_amd64.whl (11.5 MB)\n",
      "   ---------------------------------------- 0.0/11.5 MB ? eta -:--:--\n",
      "   ---------------------------------------- 0.1/11.5 MB 3.4 MB/s eta 0:00:04\n",
      "   ---------------------------------------- 0.1/11.5 MB 2.1 MB/s eta 0:00:06\n",
      "    --------------------------------------- 0.2/11.5 MB 2.1 MB/s eta 0:00:06\n",
      "    --------------------------------------- 0.3/11.5 MB 1.8 MB/s eta 0:00:07\n",
      "   - -------------------------------------- 0.4/11.5 MB 1.9 MB/s eta 0:00:06\n",
      "   - -------------------------------------- 0.4/11.5 MB 1.7 MB/s eta 0:00:07\n",
      "   - -------------------------------------- 0.4/11.5 MB 1.7 MB/s eta 0:00:07\n",
      "   -- ------------------------------------- 0.6/11.5 MB 1.7 MB/s eta 0:00:07\n",
      "   -- ------------------------------------- 0.6/11.5 MB 1.7 MB/s eta 0:00:07\n",
      "   -- ------------------------------------- 0.7/11.5 MB 1.7 MB/s eta 0:00:07\n",
      "   -- ------------------------------------- 0.8/11.5 MB 1.7 MB/s eta 0:00:07\n",
      "   --- ------------------------------------ 0.9/11.5 MB 1.7 MB/s eta 0:00:07\n",
      "   --- ------------------------------------ 1.0/11.5 MB 1.7 MB/s eta 0:00:07\n",
      "   --- ------------------------------------ 1.1/11.5 MB 1.7 MB/s eta 0:00:06\n",
      "   ---- ----------------------------------- 1.2/11.5 MB 1.7 MB/s eta 0:00:06\n",
      "   ---- ----------------------------------- 1.3/11.5 MB 1.8 MB/s eta 0:00:06\n",
      "   ---- ----------------------------------- 1.4/11.5 MB 1.8 MB/s eta 0:00:06\n",
      "   ----- ---------------------------------- 1.5/11.5 MB 1.8 MB/s eta 0:00:06\n",
      "   ----- ---------------------------------- 1.6/11.5 MB 1.9 MB/s eta 0:00:06\n",
      "   ----- ---------------------------------- 1.7/11.5 MB 1.9 MB/s eta 0:00:06\n",
      "   ------ --------------------------------- 1.8/11.5 MB 1.9 MB/s eta 0:00:06\n",
      "   ------ --------------------------------- 1.8/11.5 MB 1.8 MB/s eta 0:00:06\n",
      "   ------ --------------------------------- 1.9/11.5 MB 1.8 MB/s eta 0:00:06\n",
      "   ------ --------------------------------- 2.0/11.5 MB 1.8 MB/s eta 0:00:06\n",
      "   ------- -------------------------------- 2.1/11.5 MB 1.8 MB/s eta 0:00:06\n",
      "   ------- -------------------------------- 2.2/11.5 MB 1.8 MB/s eta 0:00:06\n",
      "   ------- -------------------------------- 2.2/11.5 MB 1.8 MB/s eta 0:00:06\n",
      "   ------- -------------------------------- 2.2/11.5 MB 1.8 MB/s eta 0:00:06\n",
      "   ------- -------------------------------- 2.3/11.5 MB 1.7 MB/s eta 0:00:06\n",
      "   -------- ------------------------------- 2.3/11.5 MB 1.7 MB/s eta 0:00:06\n",
      "   -------- ------------------------------- 2.4/11.5 MB 1.7 MB/s eta 0:00:06\n",
      "   -------- ------------------------------- 2.4/11.5 MB 1.7 MB/s eta 0:00:06\n",
      "   -------- ------------------------------- 2.5/11.5 MB 1.6 MB/s eta 0:00:06\n",
      "   --------- ------------------------------ 2.6/11.5 MB 1.7 MB/s eta 0:00:06\n",
      "   --------- ------------------------------ 2.7/11.5 MB 1.7 MB/s eta 0:00:06\n",
      "   --------- ------------------------------ 2.8/11.5 MB 1.7 MB/s eta 0:00:06\n",
      "   --------- ------------------------------ 2.8/11.5 MB 1.6 MB/s eta 0:00:06\n",
      "   ---------- ----------------------------- 2.9/11.5 MB 1.7 MB/s eta 0:00:06\n",
      "   ---------- ----------------------------- 3.0/11.5 MB 1.7 MB/s eta 0:00:06\n",
      "   ---------- ----------------------------- 3.1/11.5 MB 1.7 MB/s eta 0:00:06\n",
      "   ----------- ---------------------------- 3.2/11.5 MB 1.7 MB/s eta 0:00:05\n",
      "   ----------- ---------------------------- 3.3/11.5 MB 1.7 MB/s eta 0:00:05\n",
      "   ----------- ---------------------------- 3.4/11.5 MB 1.7 MB/s eta 0:00:05\n",
      "   ------------ --------------------------- 3.5/11.5 MB 1.7 MB/s eta 0:00:05\n",
      "   ------------ --------------------------- 3.5/11.5 MB 1.7 MB/s eta 0:00:05\n",
      "   ------------ --------------------------- 3.6/11.5 MB 1.7 MB/s eta 0:00:05\n",
      "   ------------ --------------------------- 3.7/11.5 MB 1.7 MB/s eta 0:00:05\n",
      "   ------------- -------------------------- 3.8/11.5 MB 1.7 MB/s eta 0:00:05\n",
      "   ------------- -------------------------- 3.9/11.5 MB 1.7 MB/s eta 0:00:05\n",
      "   ------------- -------------------------- 4.0/11.5 MB 1.7 MB/s eta 0:00:05\n",
      "   -------------- ------------------------- 4.1/11.5 MB 1.7 MB/s eta 0:00:05\n",
      "   -------------- ------------------------- 4.2/11.5 MB 1.8 MB/s eta 0:00:05\n",
      "   --------------- ------------------------ 4.3/11.5 MB 1.8 MB/s eta 0:00:05\n",
      "   --------------- ------------------------ 4.4/11.5 MB 1.8 MB/s eta 0:00:05\n",
      "   --------------- ------------------------ 4.4/11.5 MB 1.8 MB/s eta 0:00:05\n",
      "   --------------- ------------------------ 4.5/11.5 MB 1.8 MB/s eta 0:00:04\n",
      "   --------------- ------------------------ 4.5/11.5 MB 1.7 MB/s eta 0:00:05\n",
      "   ---------------- ----------------------- 4.6/11.5 MB 1.7 MB/s eta 0:00:04\n",
      "   ---------------- ----------------------- 4.8/11.5 MB 1.7 MB/s eta 0:00:04\n",
      "   ---------------- ----------------------- 4.8/11.5 MB 1.7 MB/s eta 0:00:04\n",
      "   ---------------- ----------------------- 4.9/11.5 MB 1.7 MB/s eta 0:00:04\n",
      "   ---------------- ----------------------- 4.9/11.5 MB 1.7 MB/s eta 0:00:04\n",
      "   ----------------- ---------------------- 4.9/11.5 MB 1.7 MB/s eta 0:00:04\n",
      "   ----------------- ---------------------- 5.0/11.5 MB 1.7 MB/s eta 0:00:04\n",
      "   ----------------- ---------------------- 5.0/11.5 MB 1.7 MB/s eta 0:00:04\n",
      "   ----------------- ---------------------- 5.1/11.5 MB 1.7 MB/s eta 0:00:04\n",
      "   ------------------ --------------------- 5.3/11.5 MB 1.7 MB/s eta 0:00:04\n",
      "   ------------------ --------------------- 5.3/11.5 MB 1.7 MB/s eta 0:00:04\n",
      "   ------------------ --------------------- 5.4/11.5 MB 1.7 MB/s eta 0:00:04\n",
      "   ------------------ --------------------- 5.4/11.5 MB 1.7 MB/s eta 0:00:04\n",
      "   ------------------ --------------------- 5.4/11.5 MB 1.7 MB/s eta 0:00:04\n",
      "   ------------------- -------------------- 5.5/11.5 MB 1.7 MB/s eta 0:00:04\n",
      "   ------------------- -------------------- 5.6/11.5 MB 1.6 MB/s eta 0:00:04\n",
      "   ------------------- -------------------- 5.6/11.5 MB 1.6 MB/s eta 0:00:04\n",
      "   ------------------- -------------------- 5.7/11.5 MB 1.6 MB/s eta 0:00:04\n",
      "   -------------------- ------------------- 5.8/11.5 MB 1.6 MB/s eta 0:00:04\n",
      "   -------------------- ------------------- 5.8/11.5 MB 1.6 MB/s eta 0:00:04\n",
      "   -------------------- ------------------- 5.9/11.5 MB 1.6 MB/s eta 0:00:04\n",
      "   -------------------- ------------------- 6.0/11.5 MB 1.6 MB/s eta 0:00:04\n",
      "   --------------------- ------------------ 6.1/11.5 MB 1.6 MB/s eta 0:00:04\n",
      "   --------------------- ------------------ 6.2/11.5 MB 1.6 MB/s eta 0:00:04\n",
      "   --------------------- ------------------ 6.3/11.5 MB 1.6 MB/s eta 0:00:04\n",
      "   --------------------- ------------------ 6.3/11.5 MB 1.6 MB/s eta 0:00:04\n",
      "   ---------------------- ----------------- 6.4/11.5 MB 1.6 MB/s eta 0:00:04\n",
      "   ---------------------- ----------------- 6.5/11.5 MB 1.7 MB/s eta 0:00:04\n",
      "   ----------------------- ---------------- 6.6/11.5 MB 1.7 MB/s eta 0:00:03\n",
      "   ----------------------- ---------------- 6.7/11.5 MB 1.7 MB/s eta 0:00:03\n",
      "   ----------------------- ---------------- 6.8/11.5 MB 1.7 MB/s eta 0:00:03\n",
      "   ----------------------- ---------------- 6.8/11.5 MB 1.6 MB/s eta 0:00:03\n",
      "   ------------------------ --------------- 6.9/11.5 MB 1.7 MB/s eta 0:00:03\n",
      "   ------------------------ --------------- 7.1/11.5 MB 1.7 MB/s eta 0:00:03\n",
      "   ------------------------ --------------- 7.1/11.5 MB 1.7 MB/s eta 0:00:03\n",
      "   ------------------------- -------------- 7.2/11.5 MB 1.7 MB/s eta 0:00:03\n",
      "   ------------------------- -------------- 7.3/11.5 MB 1.7 MB/s eta 0:00:03\n",
      "   ------------------------- -------------- 7.4/11.5 MB 1.7 MB/s eta 0:00:03\n",
      "   ------------------------- -------------- 7.5/11.5 MB 1.7 MB/s eta 0:00:03\n",
      "   -------------------------- ------------- 7.6/11.5 MB 1.7 MB/s eta 0:00:03\n",
      "   -------------------------- ------------- 7.7/11.5 MB 1.7 MB/s eta 0:00:03\n",
      "   --------------------------- ------------ 7.8/11.5 MB 1.7 MB/s eta 0:00:03\n",
      "   --------------------------- ------------ 7.8/11.5 MB 1.7 MB/s eta 0:00:03\n",
      "   --------------------------- ------------ 7.9/11.5 MB 1.7 MB/s eta 0:00:03\n",
      "   --------------------------- ------------ 8.0/11.5 MB 1.7 MB/s eta 0:00:03\n",
      "   ---------------------------- ----------- 8.1/11.5 MB 1.7 MB/s eta 0:00:02\n",
      "   ---------------------------- ----------- 8.2/11.5 MB 1.7 MB/s eta 0:00:02\n",
      "   ---------------------------- ----------- 8.2/11.5 MB 1.7 MB/s eta 0:00:02\n",
      "   ---------------------------- ----------- 8.3/11.5 MB 1.7 MB/s eta 0:00:02\n",
      "   ----------------------------- ---------- 8.4/11.5 MB 1.7 MB/s eta 0:00:02\n",
      "   ----------------------------- ---------- 8.4/11.5 MB 1.7 MB/s eta 0:00:02\n",
      "   ----------------------------- ---------- 8.5/11.5 MB 1.7 MB/s eta 0:00:02\n",
      "   ----------------------------- ---------- 8.6/11.5 MB 1.7 MB/s eta 0:00:02\n",
      "   ------------------------------ --------- 8.7/11.5 MB 1.7 MB/s eta 0:00:02\n",
      "   ------------------------------ --------- 8.8/11.5 MB 1.7 MB/s eta 0:00:02\n",
      "   ------------------------------ --------- 8.9/11.5 MB 1.7 MB/s eta 0:00:02\n",
      "   ------------------------------- -------- 9.0/11.5 MB 1.7 MB/s eta 0:00:02\n",
      "   ------------------------------- -------- 9.1/11.5 MB 1.7 MB/s eta 0:00:02\n",
      "   ------------------------------- -------- 9.1/11.5 MB 1.7 MB/s eta 0:00:02\n",
      "   ------------------------------- -------- 9.2/11.5 MB 1.7 MB/s eta 0:00:02\n",
      "   -------------------------------- ------- 9.2/11.5 MB 1.7 MB/s eta 0:00:02\n",
      "   -------------------------------- ------- 9.3/11.5 MB 1.7 MB/s eta 0:00:02\n",
      "   -------------------------------- ------- 9.4/11.5 MB 1.7 MB/s eta 0:00:02\n",
      "   --------------------------------- ------ 9.5/11.5 MB 1.7 MB/s eta 0:00:02\n",
      "   --------------------------------- ------ 9.6/11.5 MB 1.7 MB/s eta 0:00:02\n",
      "   --------------------------------- ------ 9.7/11.5 MB 1.7 MB/s eta 0:00:02\n",
      "   ---------------------------------- ----- 9.8/11.5 MB 1.7 MB/s eta 0:00:01\n",
      "   ---------------------------------- ----- 9.9/11.5 MB 1.7 MB/s eta 0:00:01\n",
      "   ---------------------------------- ----- 9.9/11.5 MB 1.7 MB/s eta 0:00:01\n",
      "   ---------------------------------- ----- 10.0/11.5 MB 1.7 MB/s eta 0:00:01\n",
      "   ----------------------------------- ---- 10.1/11.5 MB 1.7 MB/s eta 0:00:01\n",
      "   ----------------------------------- ---- 10.1/11.5 MB 1.7 MB/s eta 0:00:01\n",
      "   ----------------------------------- ---- 10.2/11.5 MB 1.7 MB/s eta 0:00:01\n",
      "   ----------------------------------- ---- 10.3/11.5 MB 1.7 MB/s eta 0:00:01\n",
      "   ------------------------------------ --- 10.4/11.5 MB 1.7 MB/s eta 0:00:01\n",
      "   ------------------------------------ --- 10.5/11.5 MB 1.7 MB/s eta 0:00:01\n",
      "   ------------------------------------ --- 10.5/11.5 MB 1.7 MB/s eta 0:00:01\n",
      "   ------------------------------------ --- 10.6/11.5 MB 1.7 MB/s eta 0:00:01\n",
      "   ------------------------------------ --- 10.6/11.5 MB 1.7 MB/s eta 0:00:01\n",
      "   ------------------------------------- -- 10.7/11.5 MB 1.7 MB/s eta 0:00:01\n",
      "   ------------------------------------- -- 10.8/11.5 MB 1.7 MB/s eta 0:00:01\n",
      "   ------------------------------------- -- 10.9/11.5 MB 1.7 MB/s eta 0:00:01\n",
      "   ------------------------------------- -- 10.9/11.5 MB 1.7 MB/s eta 0:00:01\n",
      "   -------------------------------------- - 10.9/11.5 MB 1.7 MB/s eta 0:00:01\n",
      "   -------------------------------------- - 11.0/11.5 MB 1.7 MB/s eta 0:00:01\n",
      "   -------------------------------------- - 11.1/11.5 MB 1.7 MB/s eta 0:00:01\n",
      "   -------------------------------------- - 11.2/11.5 MB 1.7 MB/s eta 0:00:01\n",
      "   ---------------------------------------  11.2/11.5 MB 1.7 MB/s eta 0:00:01\n",
      "   ---------------------------------------  11.3/11.5 MB 1.7 MB/s eta 0:00:01\n",
      "   ---------------------------------------  11.4/11.5 MB 1.7 MB/s eta 0:00:01\n",
      "   ---------------------------------------  11.4/11.5 MB 1.6 MB/s eta 0:00:01\n",
      "   ---------------------------------------  11.4/11.5 MB 1.6 MB/s eta 0:00:01\n",
      "   ---------------------------------------  11.4/11.5 MB 1.6 MB/s eta 0:00:01\n",
      "   ---------------------------------------  11.5/11.5 MB 1.6 MB/s eta 0:00:01\n",
      "   ---------------------------------------  11.5/11.5 MB 1.6 MB/s eta 0:00:01\n",
      "   ---------------------------------------  11.5/11.5 MB 1.6 MB/s eta 0:00:01\n",
      "   ---------------------------------------- 11.5/11.5 MB 1.6 MB/s eta 0:00:00\n",
      "Downloading pytz-2024.1-py2.py3-none-any.whl (505 kB)\n",
      "   ---------------------------------------- 0.0/505.5 kB ? eta -:--:--\n",
      "   --- ------------------------------------ 41.0/505.5 kB 2.0 MB/s eta 0:00:01\n",
      "   --------- ------------------------------ 122.9/505.5 kB 1.8 MB/s eta 0:00:01\n",
      "   --------------- ------------------------ 194.6/505.5 kB 1.5 MB/s eta 0:00:01\n",
      "   ----------------- ---------------------- 225.3/505.5 kB 1.3 MB/s eta 0:00:01\n",
      "   --------------------- ------------------ 276.5/505.5 kB 1.3 MB/s eta 0:00:01\n",
      "   ----------------------------- ---------- 378.9/505.5 kB 1.5 MB/s eta 0:00:01\n",
      "   ---------------------------------------  501.8/505.5 kB 1.7 MB/s eta 0:00:01\n",
      "   ---------------------------------------- 505.5/505.5 kB 1.5 MB/s eta 0:00:00\n",
      "Downloading tzdata-2024.1-py2.py3-none-any.whl (345 kB)\n",
      "   ---------------------------------------- 0.0/345.4 kB ? eta -:--:--\n",
      "   ------- -------------------------------- 61.4/345.4 kB 1.7 MB/s eta 0:00:01\n",
      "   ---------------- ----------------------- 143.4/345.4 kB 1.7 MB/s eta 0:00:01\n",
      "   ----------------------------- ---------- 256.0/345.4 kB 1.7 MB/s eta 0:00:01\n",
      "   ---------------------------------------  337.9/345.4 kB 1.9 MB/s eta 0:00:01\n",
      "   ---------------------------------------- 345.4/345.4 kB 1.8 MB/s eta 0:00:00\n",
      "Installing collected packages: pytz, tzdata, pandas\n",
      "Successfully installed pandas-2.2.2 pytz-2024.1 tzdata-2024.1\n",
      "Note: you may need to restart the kernel to use updated packages.\n"
     ]
    },
    {
     "name": "stderr",
     "output_type": "stream",
     "text": [
      "\n",
      "[notice] A new release of pip is available: 24.0 -> 24.1.2\n",
      "[notice] To update, run: python.exe -m pip install --upgrade pip\n"
     ]
    }
   ],
   "source": [
    "pip install pandas"
   ]
  },
  {
   "cell_type": "code",
   "execution_count": 91,
   "id": "70b5c063-00b6-4d43-a3b4-debc18ae16f7",
   "metadata": {},
   "outputs": [],
   "source": [
    "import pandas as pd\n",
    "import numpy as np"
   ]
  },
  {
   "cell_type": "code",
   "execution_count": 93,
   "id": "ab9618b9-1394-426a-a9c6-afe9df3cefc6",
   "metadata": {},
   "outputs": [],
   "source": [
    "df=pd.DataFrame(np.arange(0,20).reshape(5,4),index=['R1','R2','R3','R4','R5'],columns=['C1','C2','C3','C4'])"
   ]
  },
  {
   "cell_type": "code",
   "execution_count": 95,
   "id": "1eb6aa34-3c92-47a0-a861-b8295502bfcc",
   "metadata": {},
   "outputs": [
    {
     "data": {
      "text/html": [
       "<div>\n",
       "<style scoped>\n",
       "    .dataframe tbody tr th:only-of-type {\n",
       "        vertical-align: middle;\n",
       "    }\n",
       "\n",
       "    .dataframe tbody tr th {\n",
       "        vertical-align: top;\n",
       "    }\n",
       "\n",
       "    .dataframe thead th {\n",
       "        text-align: right;\n",
       "    }\n",
       "</style>\n",
       "<table border=\"1\" class=\"dataframe\">\n",
       "  <thead>\n",
       "    <tr style=\"text-align: right;\">\n",
       "      <th></th>\n",
       "      <th>C1</th>\n",
       "      <th>C2</th>\n",
       "      <th>C3</th>\n",
       "      <th>C4</th>\n",
       "    </tr>\n",
       "  </thead>\n",
       "  <tbody>\n",
       "    <tr>\n",
       "      <th>R1</th>\n",
       "      <td>0</td>\n",
       "      <td>1</td>\n",
       "      <td>2</td>\n",
       "      <td>3</td>\n",
       "    </tr>\n",
       "    <tr>\n",
       "      <th>R2</th>\n",
       "      <td>4</td>\n",
       "      <td>5</td>\n",
       "      <td>6</td>\n",
       "      <td>7</td>\n",
       "    </tr>\n",
       "    <tr>\n",
       "      <th>R3</th>\n",
       "      <td>8</td>\n",
       "      <td>9</td>\n",
       "      <td>10</td>\n",
       "      <td>11</td>\n",
       "    </tr>\n",
       "    <tr>\n",
       "      <th>R4</th>\n",
       "      <td>12</td>\n",
       "      <td>13</td>\n",
       "      <td>14</td>\n",
       "      <td>15</td>\n",
       "    </tr>\n",
       "    <tr>\n",
       "      <th>R5</th>\n",
       "      <td>16</td>\n",
       "      <td>17</td>\n",
       "      <td>18</td>\n",
       "      <td>19</td>\n",
       "    </tr>\n",
       "  </tbody>\n",
       "</table>\n",
       "</div>"
      ],
      "text/plain": [
       "    C1  C2  C3  C4\n",
       "R1   0   1   2   3\n",
       "R2   4   5   6   7\n",
       "R3   8   9  10  11\n",
       "R4  12  13  14  15\n",
       "R5  16  17  18  19"
      ]
     },
     "execution_count": 95,
     "metadata": {},
     "output_type": "execute_result"
    }
   ],
   "source": [
    "df.head()"
   ]
  },
  {
   "cell_type": "code",
   "execution_count": 97,
   "id": "9dffb519-997b-49be-b8ae-5e72d2fd0e7e",
   "metadata": {},
   "outputs": [],
   "source": [
    "df.to_csv('test1.csv')"
   ]
  },
  {
   "cell_type": "code",
   "execution_count": 98,
   "id": "8092cedb-79dc-42e9-ab64-f76e628f87b1",
   "metadata": {},
   "outputs": [
    {
     "data": {
      "text/plain": [
       "C1    0\n",
       "C2    1\n",
       "C3    2\n",
       "C4    3\n",
       "Name: R1, dtype: int64"
      ]
     },
     "execution_count": 98,
     "metadata": {},
     "output_type": "execute_result"
    }
   ],
   "source": [
    "df.loc['R1']"
   ]
  },
  {
   "cell_type": "code",
   "execution_count": 99,
   "id": "434fb7d4-85dc-4ca3-b797-73cc3cc306cb",
   "metadata": {},
   "outputs": [
    {
     "data": {
      "text/plain": [
       "pandas.core.series.Series"
      ]
     },
     "execution_count": 99,
     "metadata": {},
     "output_type": "execute_result"
    }
   ],
   "source": [
    "type(df.loc['R1'])"
   ]
  },
  {
   "cell_type": "code",
   "execution_count": 101,
   "id": "7c63ac4a-f7b5-4f92-856d-62ad4148447f",
   "metadata": {},
   "outputs": [
    {
     "data": {
      "text/html": [
       "<div>\n",
       "<style scoped>\n",
       "    .dataframe tbody tr th:only-of-type {\n",
       "        vertical-align: middle;\n",
       "    }\n",
       "\n",
       "    .dataframe tbody tr th {\n",
       "        vertical-align: top;\n",
       "    }\n",
       "\n",
       "    .dataframe thead th {\n",
       "        text-align: right;\n",
       "    }\n",
       "</style>\n",
       "<table border=\"1\" class=\"dataframe\">\n",
       "  <thead>\n",
       "    <tr style=\"text-align: right;\">\n",
       "      <th></th>\n",
       "      <th>C2</th>\n",
       "      <th>C3</th>\n",
       "    </tr>\n",
       "  </thead>\n",
       "  <tbody>\n",
       "    <tr>\n",
       "      <th>R3</th>\n",
       "      <td>9</td>\n",
       "      <td>10</td>\n",
       "    </tr>\n",
       "    <tr>\n",
       "      <th>R4</th>\n",
       "      <td>13</td>\n",
       "      <td>14</td>\n",
       "    </tr>\n",
       "  </tbody>\n",
       "</table>\n",
       "</div>"
      ],
      "text/plain": [
       "    C2  C3\n",
       "R3   9  10\n",
       "R4  13  14"
      ]
     },
     "execution_count": 101,
     "metadata": {},
     "output_type": "execute_result"
    }
   ],
   "source": [
    "df.iloc[2:4,1:3]"
   ]
  },
  {
   "cell_type": "code",
   "execution_count": 105,
   "id": "58b04948-c554-45bd-8efb-751e8a782552",
   "metadata": {},
   "outputs": [
    {
     "data": {
      "text/plain": [
       "array([[ 0,  1,  2,  3],\n",
       "       [ 4,  5,  6,  7],\n",
       "       [ 8,  9, 10, 11],\n",
       "       [12, 13, 14, 15],\n",
       "       [16, 17, 18, 19]])"
      ]
     },
     "execution_count": 105,
     "metadata": {},
     "output_type": "execute_result"
    }
   ],
   "source": [
    "df.iloc[:,:].values"
   ]
  },
  {
   "cell_type": "code",
   "execution_count": 106,
   "id": "bfa6885f-8e25-43bc-bc59-0a9280189b9e",
   "metadata": {},
   "outputs": [],
   "source": [
    "df=pd.read_csv('budget.csv')"
   ]
  },
  {
   "cell_type": "code",
   "execution_count": 107,
   "id": "4f5e8a89-89c3-4481-bc6b-acffa7911e4e",
   "metadata": {},
   "outputs": [
    {
     "data": {
      "text/html": [
       "<div>\n",
       "<style scoped>\n",
       "    .dataframe tbody tr th:only-of-type {\n",
       "        vertical-align: middle;\n",
       "    }\n",
       "\n",
       "    .dataframe tbody tr th {\n",
       "        vertical-align: top;\n",
       "    }\n",
       "\n",
       "    .dataframe thead th {\n",
       "        text-align: right;\n",
       "    }\n",
       "</style>\n",
       "<table border=\"1\" class=\"dataframe\">\n",
       "  <thead>\n",
       "    <tr style=\"text-align: right;\">\n",
       "      <th></th>\n",
       "      <th>Year</th>\n",
       "      <th>Industry_aggregation_NZSIOC</th>\n",
       "      <th>Industry_code_NZSIOC</th>\n",
       "      <th>Industry_name_NZSIOC</th>\n",
       "      <th>Units</th>\n",
       "      <th>Variable_code</th>\n",
       "      <th>Variable_name</th>\n",
       "      <th>Variable_category</th>\n",
       "      <th>Value</th>\n",
       "      <th>Industry_code_ANZSIC06</th>\n",
       "    </tr>\n",
       "  </thead>\n",
       "  <tbody>\n",
       "    <tr>\n",
       "      <th>0</th>\n",
       "      <td>2023</td>\n",
       "      <td>Level 1</td>\n",
       "      <td>99999</td>\n",
       "      <td>All industries</td>\n",
       "      <td>Dollars (millions)</td>\n",
       "      <td>H01</td>\n",
       "      <td>Total income</td>\n",
       "      <td>Financial performance</td>\n",
       "      <td>930995</td>\n",
       "      <td>ANZSIC06 divisions A-S (excluding classes K633...</td>\n",
       "    </tr>\n",
       "    <tr>\n",
       "      <th>1</th>\n",
       "      <td>2023</td>\n",
       "      <td>Level 1</td>\n",
       "      <td>99999</td>\n",
       "      <td>All industries</td>\n",
       "      <td>Dollars (millions)</td>\n",
       "      <td>H04</td>\n",
       "      <td>Sales, government funding, grants and subsidies</td>\n",
       "      <td>Financial performance</td>\n",
       "      <td>821630</td>\n",
       "      <td>ANZSIC06 divisions A-S (excluding classes K633...</td>\n",
       "    </tr>\n",
       "    <tr>\n",
       "      <th>2</th>\n",
       "      <td>2023</td>\n",
       "      <td>Level 1</td>\n",
       "      <td>99999</td>\n",
       "      <td>All industries</td>\n",
       "      <td>Dollars (millions)</td>\n",
       "      <td>H05</td>\n",
       "      <td>Interest, dividends and donations</td>\n",
       "      <td>Financial performance</td>\n",
       "      <td>84354</td>\n",
       "      <td>ANZSIC06 divisions A-S (excluding classes K633...</td>\n",
       "    </tr>\n",
       "    <tr>\n",
       "      <th>3</th>\n",
       "      <td>2023</td>\n",
       "      <td>Level 1</td>\n",
       "      <td>99999</td>\n",
       "      <td>All industries</td>\n",
       "      <td>Dollars (millions)</td>\n",
       "      <td>H07</td>\n",
       "      <td>Non-operating income</td>\n",
       "      <td>Financial performance</td>\n",
       "      <td>25010</td>\n",
       "      <td>ANZSIC06 divisions A-S (excluding classes K633...</td>\n",
       "    </tr>\n",
       "    <tr>\n",
       "      <th>4</th>\n",
       "      <td>2023</td>\n",
       "      <td>Level 1</td>\n",
       "      <td>99999</td>\n",
       "      <td>All industries</td>\n",
       "      <td>Dollars (millions)</td>\n",
       "      <td>H08</td>\n",
       "      <td>Total expenditure</td>\n",
       "      <td>Financial performance</td>\n",
       "      <td>832964</td>\n",
       "      <td>ANZSIC06 divisions A-S (excluding classes K633...</td>\n",
       "    </tr>\n",
       "  </tbody>\n",
       "</table>\n",
       "</div>"
      ],
      "text/plain": [
       "   Year Industry_aggregation_NZSIOC Industry_code_NZSIOC Industry_name_NZSIOC  \\\n",
       "0  2023                     Level 1                99999       All industries   \n",
       "1  2023                     Level 1                99999       All industries   \n",
       "2  2023                     Level 1                99999       All industries   \n",
       "3  2023                     Level 1                99999       All industries   \n",
       "4  2023                     Level 1                99999       All industries   \n",
       "\n",
       "                Units Variable_code  \\\n",
       "0  Dollars (millions)           H01   \n",
       "1  Dollars (millions)           H04   \n",
       "2  Dollars (millions)           H05   \n",
       "3  Dollars (millions)           H07   \n",
       "4  Dollars (millions)           H08   \n",
       "\n",
       "                                     Variable_name      Variable_category  \\\n",
       "0                                     Total income  Financial performance   \n",
       "1  Sales, government funding, grants and subsidies  Financial performance   \n",
       "2                Interest, dividends and donations  Financial performance   \n",
       "3                             Non-operating income  Financial performance   \n",
       "4                                Total expenditure  Financial performance   \n",
       "\n",
       "    Value                             Industry_code_ANZSIC06  \n",
       "0  930995  ANZSIC06 divisions A-S (excluding classes K633...  \n",
       "1  821630  ANZSIC06 divisions A-S (excluding classes K633...  \n",
       "2   84354  ANZSIC06 divisions A-S (excluding classes K633...  \n",
       "3   25010  ANZSIC06 divisions A-S (excluding classes K633...  \n",
       "4  832964  ANZSIC06 divisions A-S (excluding classes K633...  "
      ]
     },
     "execution_count": 107,
     "metadata": {},
     "output_type": "execute_result"
    }
   ],
   "source": [
    "df.head()"
   ]
  },
  {
   "cell_type": "code",
   "execution_count": 108,
   "id": "010fdd31-22b9-47cb-9e66-1df5a4b4d316",
   "metadata": {},
   "outputs": [
    {
     "name": "stdout",
     "output_type": "stream",
     "text": [
      "<class 'pandas.core.frame.DataFrame'>\n",
      "RangeIndex: 50985 entries, 0 to 50984\n",
      "Data columns (total 10 columns):\n",
      " #   Column                       Non-Null Count  Dtype \n",
      "---  ------                       --------------  ----- \n",
      " 0   Year                         50985 non-null  int64 \n",
      " 1   Industry_aggregation_NZSIOC  50985 non-null  object\n",
      " 2   Industry_code_NZSIOC         50985 non-null  object\n",
      " 3   Industry_name_NZSIOC         50985 non-null  object\n",
      " 4   Units                        50985 non-null  object\n",
      " 5   Variable_code                50985 non-null  object\n",
      " 6   Variable_name                50985 non-null  object\n",
      " 7   Variable_category            50985 non-null  object\n",
      " 8   Value                        50985 non-null  object\n",
      " 9   Industry_code_ANZSIC06       50985 non-null  object\n",
      "dtypes: int64(1), object(9)\n",
      "memory usage: 3.9+ MB\n"
     ]
    }
   ],
   "source": [
    "df.info()"
   ]
  },
  {
   "cell_type": "code",
   "execution_count": 109,
   "id": "654da4c7-2730-4190-84d9-c4396c110078",
   "metadata": {},
   "outputs": [
    {
     "data": {
      "text/html": [
       "<div>\n",
       "<style scoped>\n",
       "    .dataframe tbody tr th:only-of-type {\n",
       "        vertical-align: middle;\n",
       "    }\n",
       "\n",
       "    .dataframe tbody tr th {\n",
       "        vertical-align: top;\n",
       "    }\n",
       "\n",
       "    .dataframe thead th {\n",
       "        text-align: right;\n",
       "    }\n",
       "</style>\n",
       "<table border=\"1\" class=\"dataframe\">\n",
       "  <thead>\n",
       "    <tr style=\"text-align: right;\">\n",
       "      <th></th>\n",
       "      <th>Year</th>\n",
       "    </tr>\n",
       "  </thead>\n",
       "  <tbody>\n",
       "    <tr>\n",
       "      <th>count</th>\n",
       "      <td>50985.000000</td>\n",
       "    </tr>\n",
       "    <tr>\n",
       "      <th>mean</th>\n",
       "      <td>2018.000000</td>\n",
       "    </tr>\n",
       "    <tr>\n",
       "      <th>std</th>\n",
       "      <td>3.162309</td>\n",
       "    </tr>\n",
       "    <tr>\n",
       "      <th>min</th>\n",
       "      <td>2013.000000</td>\n",
       "    </tr>\n",
       "    <tr>\n",
       "      <th>25%</th>\n",
       "      <td>2015.000000</td>\n",
       "    </tr>\n",
       "    <tr>\n",
       "      <th>50%</th>\n",
       "      <td>2018.000000</td>\n",
       "    </tr>\n",
       "    <tr>\n",
       "      <th>75%</th>\n",
       "      <td>2021.000000</td>\n",
       "    </tr>\n",
       "    <tr>\n",
       "      <th>max</th>\n",
       "      <td>2023.000000</td>\n",
       "    </tr>\n",
       "  </tbody>\n",
       "</table>\n",
       "</div>"
      ],
      "text/plain": [
       "               Year\n",
       "count  50985.000000\n",
       "mean    2018.000000\n",
       "std        3.162309\n",
       "min     2013.000000\n",
       "25%     2015.000000\n",
       "50%     2018.000000\n",
       "75%     2021.000000\n",
       "max     2023.000000"
      ]
     },
     "execution_count": 109,
     "metadata": {},
     "output_type": "execute_result"
    }
   ],
   "source": [
    "df.describe()"
   ]
  },
  {
   "cell_type": "code",
   "execution_count": 112,
   "id": "ea8a4c33-0d8f-416d-ba1b-17c0a4823b3f",
   "metadata": {},
   "outputs": [],
   "source": [
    "df=pd.read_csv('budget.csv',sep=',')"
   ]
  },
  {
   "cell_type": "code",
   "execution_count": 113,
   "id": "94aba2f2-e5bb-4b44-99bb-10d1eeef8335",
   "metadata": {},
   "outputs": [
    {
     "data": {
      "text/html": [
       "<div>\n",
       "<style scoped>\n",
       "    .dataframe tbody tr th:only-of-type {\n",
       "        vertical-align: middle;\n",
       "    }\n",
       "\n",
       "    .dataframe tbody tr th {\n",
       "        vertical-align: top;\n",
       "    }\n",
       "\n",
       "    .dataframe thead th {\n",
       "        text-align: right;\n",
       "    }\n",
       "</style>\n",
       "<table border=\"1\" class=\"dataframe\">\n",
       "  <thead>\n",
       "    <tr style=\"text-align: right;\">\n",
       "      <th></th>\n",
       "      <th>Year</th>\n",
       "      <th>Industry_aggregation_NZSIOC</th>\n",
       "      <th>Industry_code_NZSIOC</th>\n",
       "      <th>Industry_name_NZSIOC</th>\n",
       "      <th>Units</th>\n",
       "      <th>Variable_code</th>\n",
       "      <th>Variable_name</th>\n",
       "      <th>Variable_category</th>\n",
       "      <th>Value</th>\n",
       "      <th>Industry_code_ANZSIC06</th>\n",
       "    </tr>\n",
       "  </thead>\n",
       "  <tbody>\n",
       "    <tr>\n",
       "      <th>0</th>\n",
       "      <td>2023</td>\n",
       "      <td>Level 1</td>\n",
       "      <td>99999</td>\n",
       "      <td>All industries</td>\n",
       "      <td>Dollars (millions)</td>\n",
       "      <td>H01</td>\n",
       "      <td>Total income</td>\n",
       "      <td>Financial performance</td>\n",
       "      <td>930995</td>\n",
       "      <td>ANZSIC06 divisions A-S (excluding classes K633...</td>\n",
       "    </tr>\n",
       "    <tr>\n",
       "      <th>1</th>\n",
       "      <td>2023</td>\n",
       "      <td>Level 1</td>\n",
       "      <td>99999</td>\n",
       "      <td>All industries</td>\n",
       "      <td>Dollars (millions)</td>\n",
       "      <td>H04</td>\n",
       "      <td>Sales, government funding, grants and subsidies</td>\n",
       "      <td>Financial performance</td>\n",
       "      <td>821630</td>\n",
       "      <td>ANZSIC06 divisions A-S (excluding classes K633...</td>\n",
       "    </tr>\n",
       "    <tr>\n",
       "      <th>2</th>\n",
       "      <td>2023</td>\n",
       "      <td>Level 1</td>\n",
       "      <td>99999</td>\n",
       "      <td>All industries</td>\n",
       "      <td>Dollars (millions)</td>\n",
       "      <td>H05</td>\n",
       "      <td>Interest, dividends and donations</td>\n",
       "      <td>Financial performance</td>\n",
       "      <td>84354</td>\n",
       "      <td>ANZSIC06 divisions A-S (excluding classes K633...</td>\n",
       "    </tr>\n",
       "    <tr>\n",
       "      <th>3</th>\n",
       "      <td>2023</td>\n",
       "      <td>Level 1</td>\n",
       "      <td>99999</td>\n",
       "      <td>All industries</td>\n",
       "      <td>Dollars (millions)</td>\n",
       "      <td>H07</td>\n",
       "      <td>Non-operating income</td>\n",
       "      <td>Financial performance</td>\n",
       "      <td>25010</td>\n",
       "      <td>ANZSIC06 divisions A-S (excluding classes K633...</td>\n",
       "    </tr>\n",
       "    <tr>\n",
       "      <th>4</th>\n",
       "      <td>2023</td>\n",
       "      <td>Level 1</td>\n",
       "      <td>99999</td>\n",
       "      <td>All industries</td>\n",
       "      <td>Dollars (millions)</td>\n",
       "      <td>H08</td>\n",
       "      <td>Total expenditure</td>\n",
       "      <td>Financial performance</td>\n",
       "      <td>832964</td>\n",
       "      <td>ANZSIC06 divisions A-S (excluding classes K633...</td>\n",
       "    </tr>\n",
       "  </tbody>\n",
       "</table>\n",
       "</div>"
      ],
      "text/plain": [
       "   Year Industry_aggregation_NZSIOC Industry_code_NZSIOC Industry_name_NZSIOC  \\\n",
       "0  2023                     Level 1                99999       All industries   \n",
       "1  2023                     Level 1                99999       All industries   \n",
       "2  2023                     Level 1                99999       All industries   \n",
       "3  2023                     Level 1                99999       All industries   \n",
       "4  2023                     Level 1                99999       All industries   \n",
       "\n",
       "                Units Variable_code  \\\n",
       "0  Dollars (millions)           H01   \n",
       "1  Dollars (millions)           H04   \n",
       "2  Dollars (millions)           H05   \n",
       "3  Dollars (millions)           H07   \n",
       "4  Dollars (millions)           H08   \n",
       "\n",
       "                                     Variable_name      Variable_category  \\\n",
       "0                                     Total income  Financial performance   \n",
       "1  Sales, government funding, grants and subsidies  Financial performance   \n",
       "2                Interest, dividends and donations  Financial performance   \n",
       "3                             Non-operating income  Financial performance   \n",
       "4                                Total expenditure  Financial performance   \n",
       "\n",
       "    Value                             Industry_code_ANZSIC06  \n",
       "0  930995  ANZSIC06 divisions A-S (excluding classes K633...  \n",
       "1  821630  ANZSIC06 divisions A-S (excluding classes K633...  \n",
       "2   84354  ANZSIC06 divisions A-S (excluding classes K633...  \n",
       "3   25010  ANZSIC06 divisions A-S (excluding classes K633...  \n",
       "4  832964  ANZSIC06 divisions A-S (excluding classes K633...  "
      ]
     },
     "execution_count": 113,
     "metadata": {},
     "output_type": "execute_result"
    }
   ],
   "source": [
    "df.head()"
   ]
  },
  {
   "cell_type": "code",
   "execution_count": null,
   "id": "268d1951-c9e6-421a-a363-9877006ebfc4",
   "metadata": {},
   "outputs": [],
   "source": []
  }
 ],
 "metadata": {
  "kernelspec": {
   "display_name": "Python 3 (ipykernel)",
   "language": "python",
   "name": "python3"
  },
  "language_info": {
   "codemirror_mode": {
    "name": "ipython",
    "version": 3
   },
   "file_extension": ".py",
   "mimetype": "text/x-python",
   "name": "python",
   "nbconvert_exporter": "python",
   "pygments_lexer": "ipython3",
   "version": "3.12.4"
  }
 },
 "nbformat": 4,
 "nbformat_minor": 5
}
